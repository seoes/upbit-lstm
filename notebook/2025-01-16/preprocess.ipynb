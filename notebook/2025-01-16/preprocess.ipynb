{
 "cells": [
  {
   "cell_type": "code",
   "execution_count": 1,
   "metadata": {},
   "outputs": [],
   "source": [
    "from sklearn.preprocessing import MinMaxScaler\n",
    "import pandas as pd\n",
    "import numpy as np\n",
    "import joblib"
   ]
  },
  {
   "cell_type": "code",
   "execution_count": 2,
   "metadata": {},
   "outputs": [
    {
     "name": "stdout",
     "output_type": "stream",
     "text": [
      "700000\n"
     ]
    }
   ],
   "source": [
    "filename = \"KRW-XRP-5m-full\"\n",
    "\n",
    "df_origin = pd.read_csv(f\"../../data/{filename}.csv\")\n",
    "\n",
    "input_features = [\n",
    "    \"high_price\",\n",
    "    \"low_price\",\n",
    "    \"trade_price\",\n",
    "    \"candle_acc_trade_volume\",\n",
    "    \"rsi_14\",\n",
    "    \"macd_histogram\",\n",
    "]\n",
    "\n",
    "print(len(df_origin))"
   ]
  },
  {
   "cell_type": "code",
   "execution_count": 3,
   "metadata": {},
   "outputs": [],
   "source": [
    "def extract_time_features(df):\n",
    "    # 필요 없는 컬럼 제거\n",
    "    df.drop(columns=['market','candle_date_time_utc','candle_date_time_kst', 'opening_price', 'timestamp','candle_acc_trade_price'], inplace=False)\n",
    "    \n",
    "    # RSI, OBV 계산\n",
    "    df['rsi_14'] = compute_rsi(df['trade_price'], window=14)\n",
    "    # df['obv'] = compute_obv(df)\n",
    "    \n",
    "    # MACD 선 계산\n",
    "    exp1 = df['trade_price'].ewm(span=12, adjust=False).mean()\n",
    "    exp2 = df['trade_price'].ewm(span=26, adjust=False).mean()\n",
    "    macd = exp1 - exp2\n",
    "    \n",
    "    # Signal 선 계산 (MACD 선의 9기간 EMA)\n",
    "    macd_signal = macd.ewm(span=9, adjust=False).mean()\n",
    "\n",
    "    # MACD 히스토그램 계산\n",
    "    df['macd_histogram'] = macd - macd_signal\n",
    "\n",
    "\n",
    "    df.dropna(inplace=False)\n",
    "\n",
    "    return df\n",
    "\n",
    "# RSI 계산\n",
    "def compute_rsi(series, window=14):\n",
    "    delta = series.diff()\n",
    "    gain = (delta.where(delta > 0, 0)).fillna(0)\n",
    "    loss = (-delta.where(delta < 0, 0)).fillna(0)\n",
    "    avg_gain = gain.rolling(window=window, min_periods=window).mean()\n",
    "    avg_loss = loss.rolling(window=window, min_periods=window).mean()\n",
    "    rs = avg_gain / avg_loss\n",
    "    rsi = 100 - (100 / (1 + rs))\n",
    "    rsi[avg_loss == 0] = 100  # Handle division by zero\n",
    "    rsi[(avg_gain == 0) & (avg_loss == 0)] = 50  # Neutral if no gain/loss\n",
    "    rsi = rsi.fillna(50)  # 추가: 남아있는 NaN을 50으로 채움\n",
    "    return rsi\n",
    "\n",
    "\n",
    "df = extract_time_features(df_origin)"
   ]
  },
  {
   "cell_type": "code",
   "execution_count": 4,
   "metadata": {},
   "outputs": [
    {
     "name": "stdout",
     "output_type": "stream",
     "text": [
      "라벨 1의 비율: 0.2884\n",
      "라벨 0의 비율: 0.7116\n"
     ]
    }
   ],
   "source": [
    "threshhold = 0.001\n",
    "\n",
    "\n",
    "prices = df['trade_price'].values\n",
    "labels = np.zeros(len(prices))\n",
    "\n",
    "\n",
    "for i in range(len(prices)-1):\n",
    "    current_price = prices[i]\n",
    "    next_price = prices[i+1]\n",
    "    change = (next_price-current_price) / current_price\n",
    "    if change >= threshhold: # 상승시\n",
    "        labels[i] = 1 # 상승 시그널\n",
    "    else:\n",
    "        labels[i] = 0\n",
    "\n",
    "df['label'] = labels\n",
    "\n",
    "df = df.iloc[:-1].reset_index(drop=True)  # 마지막 데이터 제거하여 라벨 수 맞춤\n",
    "df['label'] = labels[:-1]  # 마지막 라벨 제거하여 시퀀스 생성과 일치시킴\n",
    "\n",
    "\n",
    "print(f\"라벨 1의 비율: {(df['label'] == 1).mean():.4f}\")\n",
    "print(f\"라벨 0의 비율: {(df['label'] == 0).mean():.4f}\")"
   ]
  },
  {
   "cell_type": "code",
   "execution_count": 5,
   "metadata": {},
   "outputs": [
    {
     "data": {
      "text/plain": [
       "['../../pickles/2025-01-16/KRW-XRP-5m-full.pkl']"
      ]
     },
     "execution_count": 5,
     "metadata": {},
     "output_type": "execute_result"
    }
   ],
   "source": [
    "# 스케일러 초기화\n",
    "scaler = MinMaxScaler()\n",
    "\n",
    "# 입력 피처 스케일링\n",
    "scaled_inputs = scaler.fit_transform(df[input_features])\n",
    "\n",
    "joblib.dump(scaler, f\"../../pickles/2025-01-16/{filename}.pkl\")"
   ]
  },
  {
   "cell_type": "code",
   "execution_count": 6,
   "metadata": {},
   "outputs": [],
   "source": [
    "def create_classification_sequences(data_array, labels_array, seq_length=60):\n",
    "    Xs, ys = [], []\n",
    "    for i in range(len(data_array) - seq_length):\n",
    "        X_seq = data_array[i:i+seq_length]\n",
    "        y_val = labels_array[i+seq_length]  # 시퀀스 끝난 시점의 라벨\n",
    "        Xs.append(X_seq)\n",
    "        ys.append(y_val)\n",
    "    return np.array(Xs), np.array(ys)\n",
    "\n",
    "SEQ_LENGTH = 60\n",
    "\n",
    "X, y = create_classification_sequences(scaled_inputs, labels, seq_length=SEQ_LENGTH)\n",
    "\n",
    "np.save(f\"../../preprocessed/2025-01-16/{filename}-X.npy\",X)\n",
    "np.save(f\"../../preprocessed/2025-01-16/{filename}-y.npy\",y)"
   ]
  }
 ],
 "metadata": {
  "kernelspec": {
   "display_name": "upbit",
   "language": "python",
   "name": "python3"
  },
  "language_info": {
   "codemirror_mode": {
    "name": "ipython",
    "version": 3
   },
   "file_extension": ".py",
   "mimetype": "text/x-python",
   "name": "python",
   "nbconvert_exporter": "python",
   "pygments_lexer": "ipython3",
   "version": "3.11.11"
  }
 },
 "nbformat": 4,
 "nbformat_minor": 2
}
