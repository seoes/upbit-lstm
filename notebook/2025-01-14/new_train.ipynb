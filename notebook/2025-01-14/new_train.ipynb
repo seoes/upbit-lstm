{
 "cells": [
  {
   "cell_type": "markdown",
   "metadata": {},
   "source": []
  },
  {
   "cell_type": "code",
   "execution_count": 1,
   "metadata": {},
   "outputs": [
    {
     "name": "stdout",
     "output_type": "stream",
     "text": [
      "cuda\n"
     ]
    }
   ],
   "source": [
    "import numpy as np\n",
    "\n",
    "import torch\n",
    "import torch.nn as nn\n",
    "from torch.utils.data import Dataset, DataLoader\n",
    "import joblib\n",
    "import matplotlib.pyplot as plt\n",
    "import time\n",
    "\n",
    "device = \"cpu\"\n",
    "\n",
    "if torch.cuda.is_available():\n",
    "    device = \"cuda\"\n",
    "elif torch.backends.mps.is_available():\n",
    "    device = \"mps\"\n",
    "else:\n",
    "    device = \"cpu\"\n",
    "\n",
    "print(device)\n",
    "\n",
    "now = time.strftime(\"%Y-%m-%d %H:%M:%S\", time.localtime())"
   ]
  },
  {
   "cell_type": "code",
   "execution_count": 2,
   "metadata": {},
   "outputs": [
    {
     "name": "stdout",
     "output_type": "stream",
     "text": [
      "hidden_size: 100\n",
      "num_layers: 2\n",
      "num_epochs: 200\n",
      "batch_size: 32\n"
     ]
    }
   ],
   "source": [
    "# 선택된 피처 리스트\n",
    "input_features = [\n",
    "    \"high_price\",\n",
    "    \"low_price\",\n",
    "    \"trade_price\",\n",
    "    \"candle_acc_trade_volume\",\n",
    "    \"rsi_14\",\n",
    "    \"macd_histogram\",\n",
    "\n",
    "    # \"atr_14\",\n",
    "    # \"stoch_k\",\n",
    "    # \"stoch_d\",\n",
    "]\n",
    "\n",
    "input_size = len(input_features)\n",
    "hidden_size = 100\n",
    "num_layers = 2\n",
    "output_size = 1\n",
    "learning_rate = 0.00025\n",
    "num_epochs = 200 # 100\n",
    "batch_size = 32\n",
    "\n",
    "print(\"hidden_size:\", hidden_size)\n",
    "print(\"num_layers:\", num_layers)\n",
    "print(\"num_epochs:\", num_epochs)\n",
    "print(\"batch_size:\", batch_size)"
   ]
  },
  {
   "cell_type": "code",
   "execution_count": 3,
   "metadata": {},
   "outputs": [],
   "source": [
    "filename = \"KRW-XRP-5m-full\"\n",
    "\n",
    "# npy 파일 불러오기\n",
    "X = np.load(f\"../../preprocessed/2025-01-14/{filename}-X.npy\")\n",
    "y = np.load(f\"../../preprocessed/2025-01-14/{filename}-y.npy\")\n",
    "\n",
    "train_size = int(len(X) * 0.8)\n",
    "X_train, X_test = X[:train_size], X[train_size:]\n",
    "y_train, y_test = y[:train_size], y[train_size:]\n",
    "\n",
    "# Numpy 배열을 Tensor로 변환\n",
    "# X_train = torch.from_numpy(X).type(torch.FloatTensor).to(device)\n",
    "# y_train = torch.from_numpy(y).type(torch.FloatTensor).to(device)"
   ]
  },
  {
   "cell_type": "code",
   "execution_count": 4,
   "metadata": {},
   "outputs": [],
   "source": [
    "# 데이터셋 정의\n",
    "class TimeSeriesDataset(Dataset):\n",
    "    def __init__(self, X, y):\n",
    "        self.X = torch.tensor(X, dtype=torch.float32)\n",
    "        self.y = torch.tensor(y, dtype=torch.float32)\n",
    "        \n",
    "    def __len__(self):\n",
    "        return len(self.X)\n",
    "    \n",
    "    def __getitem__(self, idx):\n",
    "        return self.X[idx], self.y[idx]\n",
    "\n",
    "# 데이터셋 생성\n",
    "train_dataset = TimeSeriesDataset(X_train, y_train)\n",
    "test_dataset = TimeSeriesDataset(X_test, y_test)\n",
    "\n",
    "train_loader = DataLoader(train_dataset, batch_size=batch_size, shuffle=True)\n",
    "test_loader = DataLoader(test_dataset, batch_size=batch_size, shuffle=False)"
   ]
  },
  {
   "cell_type": "code",
   "execution_count": 5,
   "metadata": {},
   "outputs": [],
   "source": [
    "for X_batch, y_batch in train_loader:\n",
    "    if torch.isnan(X_batch).any() or torch.isnan(y_batch).any():\n",
    "        print(\"NaN detected in training data batch\")\n",
    "        break\n",
    "\n",
    "for X_batch, y_batch in test_loader:\n",
    "    if torch.isnan(X_batch).any() or torch.isnan(y_batch).any():\n",
    "        print(\"NaN detected in test data batch\")\n",
    "        break"
   ]
  },
  {
   "cell_type": "code",
   "execution_count": 6,
   "metadata": {},
   "outputs": [],
   "source": [
    "# 조기 종료 클래스 정의\n",
    "class EarlyStopping:\n",
    "    def __init__(self, patience=5, verbose=False):\n",
    "        self.patience = patience\n",
    "        self.verbose = verbose\n",
    "        self.counter = 0\n",
    "        self.best_loss = None\n",
    "        self.early_stop = False\n",
    "    \n",
    "    def __call__(self, val_loss):\n",
    "        if self.best_loss is None:\n",
    "            self.best_loss = val_loss\n",
    "        elif val_loss > self.best_loss:\n",
    "            self.counter += 1\n",
    "            if self.verbose:\n",
    "                print(f'EarlyStopping counter: {self.counter} out of {self.patience}')\n",
    "            if self.counter >= self.patience:\n",
    "                self.early_stop = True\n",
    "        else:\n",
    "            self.best_loss = val_loss\n",
    "            self.counter = 0\n",
    "\n",
    "# LSTM 모델 정의\n",
    "class LSTMModel(nn.Module):\n",
    "    def __init__(self, input_size, hidden_size=50, num_layers=2):\n",
    "        super(LSTMModel, self).__init__()\n",
    "        self.hidden_size = hidden_size\n",
    "        self.num_layers = num_layers\n",
    "        \n",
    "        self.lstm = nn.LSTM(input_size, hidden_size, num_layers, batch_first=True)\n",
    "        self.fc = nn.Linear(hidden_size, 1)\n",
    "        \n",
    "    def forward(self, x):\n",
    "        # 초기 은닉 상태와 셀 상태 설정 (입력 텐서의 디바이스 사용)\n",
    "        h0 = torch.zeros(self.num_layers, x.size(0), self.hidden_size, device=x.device)\n",
    "        c0 = torch.zeros(self.num_layers, x.size(0), self.hidden_size, device=x.device)\n",
    "        \n",
    "        # LSTM 통과\n",
    "        out, _ = self.lstm(x, (h0, c0))\n",
    "        \n",
    "        # 마지막 타임스텝의 출력만 사용\n",
    "        out = out[:, -1, :]\n",
    "        \n",
    "        # Fully connected 레이어 통과\n",
    "        out = self.fc(out)\n",
    "        return out"
   ]
  },
  {
   "cell_type": "code",
   "execution_count": 7,
   "metadata": {},
   "outputs": [
    {
     "name": "stdout",
     "output_type": "stream",
     "text": [
      "Available GPUs: 4\n",
      "GPU 0:\n",
      "  Name: NVIDIA RTX A6000\n",
      "  Allocated memory: 0.0 GB\n",
      "  Cached memory: 0.0 GB\n",
      "  Utilization: 0.0 %\n",
      "GPU 1:\n",
      "  Name: NVIDIA RTX A6000\n",
      "  Allocated memory: 0.0 GB\n",
      "  Cached memory: 0.0 GB\n",
      "  Utilization: 0.0 %\n",
      "GPU 2:\n",
      "  Name: NVIDIA RTX A6000\n",
      "  Allocated memory: 0.0 GB\n",
      "  Cached memory: 0.0 GB\n",
      "  Utilization: 0.0 %\n",
      "GPU 3:\n",
      "  Name: NVIDIA RTX A6000\n",
      "  Allocated memory: 0.0 GB\n",
      "  Cached memory: 0.0 GB\n",
      "  Utilization: 0.0 %\n",
      "Current GPU in use: 0\n"
     ]
    }
   ],
   "source": [
    "print(\"Available GPUs:\", torch.cuda.device_count())\n",
    "\n",
    "for i in range(torch.cuda.device_count()):\n",
    "    print(f\"GPU {i}:\")\n",
    "    print(\"  Name:\", torch.cuda.get_device_name(i))\n",
    "    print(\"  Allocated memory:\", torch.cuda.memory_allocated(i) / 1e9, \"GB\")\n",
    "    print(\"  Cached memory:\", torch.cuda.memory_reserved(i) / 1e9, \"GB\")\n",
    "    print(\"  Utilization:\", torch.cuda.max_memory_allocated(i) / torch.cuda.get_device_properties(i).total_memory * 100, \"%\")\n",
    "\n",
    "\n",
    "print(\"Current GPU in use:\", torch.cuda.current_device())"
   ]
  },
  {
   "cell_type": "code",
   "execution_count": 8,
   "metadata": {},
   "outputs": [
    {
     "name": "stdout",
     "output_type": "stream",
     "text": [
      "yep\n",
      "모델이 사용 중인 디바이스: cuda:0\n"
     ]
    }
   ],
   "source": [
    "model = LSTMModel(input_size, hidden_size, num_layers).to(device)\n",
    "\n",
    "\n",
    "# 여러 GPU 사용 설정\n",
    "if torch.cuda.device_count() > 1:\n",
    "    model = nn.DataParallel(model)\n",
    "    print(\"yep\")\n",
    "\n",
    "current_device = next(model.parameters()).device\n",
    "print(f\"모델이 사용 중인 디바이스: {current_device}\")\n",
    "\n",
    "criterion = nn.MSELoss()\n",
    "optimizer = torch.optim.Adam(model.parameters(), lr=learning_rate)"
   ]
  },
  {
   "cell_type": "code",
   "execution_count": 9,
   "metadata": {},
   "outputs": [],
   "source": [
    "for name, param in model.named_parameters():\n",
    "    if torch.isnan(param).any():\n",
    "        print(f\"NaN detected in parameter: {name}\")"
   ]
  },
  {
   "cell_type": "code",
   "execution_count": 10,
   "metadata": {},
   "outputs": [
    {
     "name": "stderr",
     "output_type": "stream",
     "text": [
      "/home/dowonseo/anaconda3/envs/upbit/lib/python3.11/site-packages/torch/optim/lr_scheduler.py:62: UserWarning: The verbose parameter is deprecated. Please use get_last_lr() to access the learning rate.\n",
      "  warnings.warn(\n"
     ]
    },
    {
     "name": "stdout",
     "output_type": "stream",
     "text": [
      "Epoch [1/200], Train Loss: 0.000027895666, Test Loss: 0.000010360166, Time: 203.41s, Current Time: 2025-01-16 06:50:00\n",
      "Epoch [2/200], Train Loss: 0.000001489222, Test Loss: 0.000016381815, Time: 194.55s, Current Time: 2025-01-16 06:53:14\n",
      "EarlyStopping counter: 1 out of 10\n",
      "Epoch [3/200], Train Loss: 0.000001136742, Test Loss: 0.000035067994, Time: 202.24s, Current Time: 2025-01-16 06:56:37\n",
      "EarlyStopping counter: 2 out of 10\n",
      "Epoch [4/200], Train Loss: 0.000001032939, Test Loss: 0.000047226046, Time: 198.27s, Current Time: 2025-01-16 06:59:55\n",
      "EarlyStopping counter: 3 out of 10\n",
      "Epoch [5/200], Train Loss: 0.000000971227, Test Loss: 0.000055336325, Time: 199.94s, Current Time: 2025-01-16 07:03:15\n",
      "EarlyStopping counter: 4 out of 10\n",
      "Epoch [6/200], Train Loss: 0.000000781951, Test Loss: 0.000011758916, Time: 199.09s, Current Time: 2025-01-16 07:06:34\n",
      "EarlyStopping counter: 5 out of 10\n",
      "Epoch [7/200], Train Loss: 0.000000782001, Test Loss: 0.000025615733, Time: 197.00s, Current Time: 2025-01-16 07:09:51\n",
      "EarlyStopping counter: 6 out of 10\n",
      "Epoch [8/200], Train Loss: 0.000000766340, Test Loss: 0.000026051430, Time: 200.41s, Current Time: 2025-01-16 07:13:11\n",
      "EarlyStopping counter: 7 out of 10\n",
      "Epoch [9/200], Train Loss: 0.000000771105, Test Loss: 0.000022104610, Time: 200.73s, Current Time: 2025-01-16 07:16:32\n",
      "EarlyStopping counter: 8 out of 10\n",
      "Epoch [10/200], Train Loss: 0.000000691378, Test Loss: 0.000011336096, Time: 200.50s, Current Time: 2025-01-16 07:19:53\n",
      "EarlyStopping counter: 9 out of 10\n",
      "Epoch [11/200], Train Loss: 0.000000690879, Test Loss: 0.000010295621, Time: 206.52s, Current Time: 2025-01-16 07:23:19\n",
      "Epoch [12/200], Train Loss: 0.000000684592, Test Loss: 0.000019474407, Time: 204.73s, Current Time: 2025-01-16 07:26:44\n",
      "EarlyStopping counter: 1 out of 10\n",
      "Epoch [13/200], Train Loss: 0.000000684211, Test Loss: 0.000019060947, Time: 201.41s, Current Time: 2025-01-16 07:30:05\n",
      "EarlyStopping counter: 2 out of 10\n",
      "Epoch [14/200], Train Loss: 0.000000687435, Test Loss: 0.000015959078, Time: 181.81s, Current Time: 2025-01-16 07:33:07\n",
      "EarlyStopping counter: 3 out of 10\n",
      "Epoch [15/200], Train Loss: 0.000000686578, Test Loss: 0.000015814328, Time: 188.65s, Current Time: 2025-01-16 07:36:16\n",
      "EarlyStopping counter: 4 out of 10\n",
      "Epoch [16/200], Train Loss: 0.000000642341, Test Loss: 0.000008390196, Time: 197.92s, Current Time: 2025-01-16 07:39:34\n",
      "Epoch [17/200], Train Loss: 0.000000646230, Test Loss: 0.000012912220, Time: 196.59s, Current Time: 2025-01-16 07:42:50\n",
      "EarlyStopping counter: 1 out of 10\n",
      "Epoch [18/200], Train Loss: 0.000000644282, Test Loss: 0.000020058917, Time: 193.59s, Current Time: 2025-01-16 07:46:04\n",
      "EarlyStopping counter: 2 out of 10\n",
      "Epoch [19/200], Train Loss: 0.000000643547, Test Loss: 0.000013401563, Time: 201.28s, Current Time: 2025-01-16 07:49:25\n",
      "EarlyStopping counter: 3 out of 10\n",
      "Epoch [20/200], Train Loss: 0.000000642792, Test Loss: 0.000007095853, Time: 201.75s, Current Time: 2025-01-16 07:52:47\n",
      "Epoch [21/200], Train Loss: 0.000000644018, Test Loss: 0.000011471946, Time: 206.00s, Current Time: 2025-01-16 07:56:13\n",
      "EarlyStopping counter: 1 out of 10\n",
      "Epoch [22/200], Train Loss: 0.000000642473, Test Loss: 0.000012039758, Time: 204.30s, Current Time: 2025-01-16 07:59:37\n",
      "EarlyStopping counter: 2 out of 10\n",
      "Epoch [23/200], Train Loss: 0.000000642942, Test Loss: 0.000012708994, Time: 194.40s, Current Time: 2025-01-16 08:02:52\n",
      "EarlyStopping counter: 3 out of 10\n",
      "Epoch [24/200], Train Loss: 0.000000641721, Test Loss: 0.000012362140, Time: 183.16s, Current Time: 2025-01-16 08:05:55\n",
      "EarlyStopping counter: 4 out of 10\n",
      "Epoch [25/200], Train Loss: 0.000000621379, Test Loss: 0.000015733232, Time: 198.15s, Current Time: 2025-01-16 08:09:13\n",
      "EarlyStopping counter: 5 out of 10\n",
      "Epoch [26/200], Train Loss: 0.000000621410, Test Loss: 0.000012994728, Time: 200.20s, Current Time: 2025-01-16 08:12:33\n",
      "EarlyStopping counter: 6 out of 10\n",
      "Epoch [27/200], Train Loss: 0.000000621379, Test Loss: 0.000015251750, Time: 208.25s, Current Time: 2025-01-16 08:16:01\n",
      "EarlyStopping counter: 7 out of 10\n",
      "Epoch [28/200], Train Loss: 0.000000621683, Test Loss: 0.000012847058, Time: 205.12s, Current Time: 2025-01-16 08:19:26\n",
      "EarlyStopping counter: 8 out of 10\n",
      "Epoch [29/200], Train Loss: 0.000000609962, Test Loss: 0.000013769829, Time: 206.33s, Current Time: 2025-01-16 08:22:53\n",
      "EarlyStopping counter: 9 out of 10\n",
      "Epoch [30/200], Train Loss: 0.000000609431, Test Loss: 0.000013663984, Time: 203.00s, Current Time: 2025-01-16 08:26:16\n",
      "EarlyStopping counter: 10 out of 10\n",
      "Early stopping\n"
     ]
    }
   ],
   "source": [
    "from torch.nn.utils import clip_grad_norm_\n",
    "\n",
    "# 조기 종료 초기화\n",
    "early_stopping = EarlyStopping(patience=10, verbose=True)\n",
    "scheduler = torch.optim.lr_scheduler.ReduceLROnPlateau(optimizer, mode='min', patience=3, factor=0.5, verbose=True)\n",
    "\n",
    "# 모델 훈련\n",
    "for epoch in range(num_epochs):\n",
    "    start_time = time.time()\n",
    "    model.train()\n",
    "    train_loss = 0.0\n",
    "    for X_batch, y_batch in train_loader:\n",
    "        X_batch = X_batch.to(device)\n",
    "        y_batch = y_batch.to(device)\n",
    "        \n",
    "        optimizer.zero_grad()\n",
    "        outputs = model(X_batch)\n",
    "\n",
    "        # 출력에 NaN이 있는지 확인\n",
    "        if torch.isnan(outputs).any():\n",
    "            print(f\"Epoch {epoch+1}: NaN detected in outputs during training\")\n",
    "            break\n",
    "\n",
    "        loss = criterion(outputs, y_batch)\n",
    "\n",
    "        # 손실에 NaN이 있는지 확인\n",
    "        if torch.isnan(loss).any():\n",
    "            print(f\"Epoch {epoch+1}: NaN detected in loss during training\")\n",
    "            break\n",
    "\n",
    "        loss.backward()\n",
    "        clip_grad_norm_(model.parameters(), max_norm=1.0)  # 그레이디언트 클리핑\n",
    "        optimizer.step()\n",
    "        \n",
    "        train_loss += loss.item() * X_batch.size(0)\n",
    "    \n",
    "    train_loss /= len(train_loader.dataset)\n",
    "    \n",
    "    # 테스트 손실 계산\n",
    "    model.eval()\n",
    "    test_loss = 0.0\n",
    "    with torch.no_grad():\n",
    "        for X_batch, y_batch in test_loader:\n",
    "            X_batch = X_batch.to(device)\n",
    "            y_batch = y_batch.to(device)\n",
    "            \n",
    "            outputs = model(X_batch)\n",
    "            \n",
    "            # 출력에 NaN이 있는지 확인\n",
    "            if torch.isnan(outputs).any():\n",
    "                print(f\"Epoch {epoch+1}: NaN detected in outputs during evaluation\")\n",
    "                continue  # NaN이 있는 경우 건너뜀\n",
    "            \n",
    "            loss = criterion(outputs, y_batch)\n",
    "            \n",
    "            # 손실에 NaN이 있는지 확인\n",
    "            if torch.isnan(loss).any():\n",
    "                print(f\"Epoch {epoch+1}: NaN detected in loss during evaluation\")\n",
    "                continue\n",
    "            \n",
    "            test_loss += loss.item() * X_batch.size(0)\n",
    "    \n",
    "    test_loss /= len(test_loader.dataset)\n",
    "\n",
    "    end_time = time.time()  # 에포크 종료 시간 기록\n",
    "    epoch_time = end_time - start_time  # 소요 시간 계산\n",
    "    \n",
    "    print(f'Epoch [{epoch+1}/{num_epochs}], Train Loss: {train_loss:.12f}, Test Loss: {test_loss:.12f}, Time: {epoch_time:.2f}s, Current Time: {time.strftime(\"%Y-%m-%d %H:%M:%S\", time.localtime())}')\n",
    "    \n",
    "    # 조기 종료 조건 확인\n",
    "    early_stopping(test_loss)\n",
    "    if early_stopping.early_stop:\n",
    "        print(\"Early stopping\")\n",
    "        break\n",
    "    \n",
    "    # 학습률 스케줄러 업데이트 (선택 사항)\n",
    "    scheduler.step(test_loss)"
   ]
  },
  {
   "cell_type": "code",
   "execution_count": 11,
   "metadata": {},
   "outputs": [],
   "source": [
    "# 모델 저장\n",
    "\n",
    "model_filename = f'{filename}-lr{learning_rate}_bs{batch_size}-epochs{num_epochs}-hs{hidden_size}_nl{num_layers}.pth'\n",
    "torch.save(model.state_dict(), f\"../../model/2025-01-14/{filename}.pth\")"
   ]
  },
  {
   "cell_type": "code",
   "execution_count": 12,
   "metadata": {},
   "outputs": [
    {
     "data": {
      "image/png": "[encoded data removed]",
      "text/plain": [
       "<Figure size 1400x700 with 1 Axes>"
      ]
     },
     "metadata": {},
     "output_type": "display_data"
    },
    {
     "name": "stdout",
     "output_type": "stream",
     "text": [
      "MAE: 5.1412\n",
      "MSE: 201.4837\n",
      "RMSE: 14.1945\n",
      "R²: 0.9997\n"
     ]
    }
   ],
   "source": [
    "# 모델 평가 및 시각화\n",
    "model.eval()\n",
    "predictions = []\n",
    "actuals = []\n",
    "with torch.no_grad():\n",
    "    for X_batch, y_batch in test_loader:\n",
    "        X_batch = X_batch.to(device)\n",
    "        y_batch = y_batch.to(device)\n",
    "        outputs = model(X_batch)\n",
    "        \n",
    "        # 출력에 NaN이 있는지 확인\n",
    "        if torch.isnan(outputs).any():\n",
    "            print(\"NaN detected in model outputs during evaluation\")\n",
    "            continue  # NaN이 있는 경우 건너뜀\n",
    "        \n",
    "        predictions.append(outputs.cpu().numpy())\n",
    "        actuals.append(y_batch.cpu().numpy())\n",
    "\n",
    "predictions = np.concatenate(predictions).reshape(-1, 1)\n",
    "actuals = np.concatenate(actuals).reshape(-1, 1)\n",
    "\n",
    "# 스케일러 로드 (올바른 경로 사용)\n",
    "scaler_target = joblib.load(f\"../../pickles/2025-01-14/{filename}-scaler_target.pkl\")\n",
    "\n",
    "# 스케일 되돌리기\n",
    "try:\n",
    "    predictions_original = scaler_target.inverse_transform(predictions)\n",
    "    actuals_original = scaler_target.inverse_transform(actuals)\n",
    "except ValueError as e:\n",
    "    print(f\"Inverse transform error: {e}\")\n",
    "    # 추가적인 디버깅 필요\n",
    "\n",
    "# 시각화\n",
    "plt.figure(figsize=(14,7))\n",
    "plt.plot(actuals_original, label='Actual Price')\n",
    "plt.plot(predictions_original, label='Predicted Price')\n",
    "plt.legend()\n",
    "plt.xlabel('Time')\n",
    "plt.ylabel('Price')\n",
    "plt.title('Actual vs Predicted Trade Price')\n",
    "plt.show()\n",
    "\n",
    "# 추가 평가지표\n",
    "from sklearn.metrics import mean_absolute_error, mean_squared_error, r2_score\n",
    "\n",
    "mae = mean_absolute_error(actuals_original, predictions_original)\n",
    "mse = mean_squared_error(actuals_original, predictions_original)\n",
    "rmse = np.sqrt(mse)\n",
    "r2 = r2_score(actuals_original, predictions_original)\n",
    "\n",
    "print(f\"MAE: {mae:.4f}\")\n",
    "print(f\"MSE: {mse:.4f}\")\n",
    "print(f\"RMSE: {rmse:.4f}\")\n",
    "print(f\"R²: {r2:.4f}\")"
   ]
  },
  {
   "cell_type": "code",
   "execution_count": 13,
   "metadata": {},
   "outputs": [
    {
     "name": "stdout",
     "output_type": "stream",
     "text": [
      "(139988, 1)\n",
      "(139988, 1)\n"
     ]
    }
   ],
   "source": [
    "print(predictions.shape)  # 예상: (n_samples, 1)\n",
    "print(actuals.shape)      # 예상: (n_samples, 1)"
   ]
  },
  {
   "cell_type": "code",
   "execution_count": 14,
   "metadata": {},
   "outputs": [
    {
     "name": "stdout",
     "output_type": "stream",
     "text": [
      "Actual: 679.0, Predicted: 679.4645385742188\n",
      "Actual: 679.0, Predicted: 678.8494873046875\n",
      "Actual: 679.0, Predicted: 678.5032958984375\n",
      "Actual: 679.0, Predicted: 678.668212890625\n",
      "Actual: 679.0, Predicted: 678.1808471679688\n",
      "Actual: 679.0, Predicted: 678.6617431640625\n",
      "Actual: 678.0, Predicted: 678.1626586914062\n",
      "Actual: 678.0, Predicted: 677.6893920898438\n",
      "Actual: 678.0, Predicted: 677.8558349609375\n",
      "Actual: 679.0, Predicted: 677.7327880859375\n"
     ]
    }
   ],
   "source": [
    "for i in range(10):\n",
    "    print(f\"Actual: {actuals_original[i][0]}, Predicted: {predictions_original[i][0]}\")"
   ]
  },
  {
   "cell_type": "code",
   "execution_count": 15,
   "metadata": {},
   "outputs": [
    {
     "name": "stdout",
     "output_type": "stream",
     "text": [
      "0 0\n",
      "0 0\n"
     ]
    }
   ],
   "source": [
    "print(np.isnan(X_train).sum(), np.isnan(y_train).sum())\n",
    "print(np.isnan(X_test).sum(), np.isnan(y_test).sum())"
   ]
  }
 ],
 "metadata": {
  "kernelspec": {
   "display_name": "upbit",
   "language": "python",
   "name": "python3"
  },
  "language_info": {
   "codemirror_mode": {
    "name": "ipython",
    "version": 3
   },
   "file_extension": ".py",
   "mimetype": "text/x-python",
   "name": "python",
   "nbconvert_exporter": "python",
   "pygments_lexer": "ipython3",
   "version": "3.11.11"
  }
 },
 "nbformat": 4,
 "nbformat_minor": 2
}
