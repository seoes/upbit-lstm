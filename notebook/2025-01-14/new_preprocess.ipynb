{
 "cells": [
  {
   "cell_type": "code",
   "execution_count": 1,
   "metadata": {},
   "outputs": [],
   "source": [
    "from sklearn.preprocessing import MinMaxScaler\n",
    "import pandas as pd\n",
    "import numpy as np\n",
    "import joblib"
   ]
  },
  {
   "cell_type": "code",
   "execution_count": 2,
   "metadata": {},
   "outputs": [
    {
     "name": "stdout",
     "output_type": "stream",
     "text": [
      "700000\n"
     ]
    }
   ],
   "source": [
    "filename = \"KRW-XRP-5m-full\"\n",
    "\n",
    "df_origin = pd.read_csv(f\"../../data/{filename}.csv\")\n",
    "\n",
    "input_features = [\n",
    "    \"high_price\",\n",
    "    \"low_price\",\n",
    "    \"trade_price\",\n",
    "    \"candle_acc_trade_volume\",\n",
    "    \"rsi_14\",\n",
    "    \"macd_histogram\",\n",
    "\n",
    "    # \"stoch_k\",\n",
    "    # \"stoch_d\",\n",
    "]\n",
    "\n",
    "print(len(df_origin))"
   ]
  },
  {
   "cell_type": "code",
   "execution_count": 3,
   "metadata": {},
   "outputs": [],
   "source": [
    "def extract_time_features(df):\n",
    "    # 필요 없는 컬럼 제거\n",
    "    df.drop(columns=['market','candle_date_time_utc','candle_date_time_kst', 'opening_price', 'timestamp','candle_acc_trade_price'], inplace=True)\n",
    "    \n",
    "    # RSI, OBV 계산\n",
    "    df['rsi_14'] = compute_rsi(df['trade_price'], window=14)\n",
    "    # df['obv'] = compute_obv(df)\n",
    "    \n",
    "    # MACD 선 계산\n",
    "    exp1 = df['trade_price'].ewm(span=12, adjust=False).mean()\n",
    "    exp2 = df['trade_price'].ewm(span=26, adjust=False).mean()\n",
    "    macd = exp1 - exp2\n",
    "    \n",
    "    # Signal 선 계산 (MACD 선의 9기간 EMA)\n",
    "    macd_signal = macd.ewm(span=9, adjust=False).mean()\n",
    "\n",
    "    # MACD 히스토그램 계산\n",
    "    df['macd_histogram'] = macd - macd_signal\n",
    "    \n",
    "    # Stochastic Oscillator 추가 (%K, %D)\n",
    "    # stoch_k, stoch_d = compute_stochastic(df, window=14, smooth_k=3, smooth_d=3)\n",
    "    # df['stoch_k'] = stoch_k\n",
    "    # df['stoch_d'] = stoch_d\n",
    "\n",
    "    df.dropna(inplace=True)\n",
    "\n",
    "    return df\n",
    "\n",
    "def compute_obv(df):\n",
    "    obv = [0]\n",
    "    for i in range(1, len(df)):\n",
    "        if df['trade_price'].iloc[i] > df['trade_price'].iloc[i-1]:\n",
    "            obv.append(obv[-1] + df['candle_acc_trade_volume'].iloc[i])\n",
    "        elif df['trade_price'].iloc[i] < df['trade_price'].iloc[i-1]:\n",
    "            obv.append(obv[-1] - df['candle_acc_trade_volume'].iloc[i])\n",
    "        else:\n",
    "            obv.append(obv[-1])\n",
    "    return obv\n",
    "\n",
    "# 도움 함수 정의 (RSI, OBV, ATR, ROC)\n",
    "def compute_rsi(series, window=14):\n",
    "    delta = series.diff()\n",
    "    gain = (delta.where(delta > 0, 0)).fillna(0)\n",
    "    loss = (-delta.where(delta < 0, 0)).fillna(0)\n",
    "    avg_gain = gain.rolling(window=window, min_periods=window).mean()\n",
    "    avg_loss = loss.rolling(window=window, min_periods=window).mean()\n",
    "    rs = avg_gain / avg_loss\n",
    "    rsi = 100 - (100 / (1 + rs))\n",
    "    rsi[avg_loss == 0] = 100  # Handle division by zero\n",
    "    rsi[(avg_gain == 0) & (avg_loss == 0)] = 50  # Neutral if no gain/loss\n",
    "    rsi = rsi.fillna(50)  # 추가: 남아있는 NaN을 50으로 채움\n",
    "    return rsi\n",
    "\n",
    "# preprocess.py 수정\n",
    "\n",
    "# def create_tensors_from_dataframe(scaled_inputs, device):\n",
    "#     import torch\n",
    "#     # LSTM의 입력 형식: [batch_size, seq_length, input_size]\n",
    "#     X = torch.tensor(scaled_inputs, dtype=torch.float32).to(device)  # [batch_size, seq_length, input_size]\n",
    "#     return X\n",
    "\n",
    "\n",
    "def compute_atr(df, window=14):\n",
    "    \"\"\"\n",
    "    ATR (Average True Range)을 간단한 '단순 이동평균(rolling mean)'으로 계산합니다.\n",
    "    필요에 따라 EMA나 Wilder’s 평균을 적용할 수도 있습니다.\n",
    "    \"\"\"\n",
    "    # prev_close(전일 종가) 시프트\n",
    "    prev_close = df['trade_price'].shift(1)\n",
    "\n",
    "    # True Range 계산\n",
    "    tr1 = df['high_price'] - df['low_price']\n",
    "    tr2 = (df['high_price'] - prev_close).abs()\n",
    "    tr3 = (df['low_price'] - prev_close).abs()\n",
    "    tr = pd.DataFrame({'tr1': tr1, 'tr2': tr2, 'tr3': tr3}).max(axis=1)\n",
    "\n",
    "    # ATR 계산 (rolling mean 버전)\n",
    "    atr = tr.rolling(window=window, min_periods=window).mean()\n",
    "    return atr\n",
    "\n",
    "def compute_stochastic(df, window=14, smooth_k=3, smooth_d=3):\n",
    "    \"\"\"\n",
    "    Stochastic Oscillator의 %K, %D를 계산합니다.\n",
    "    - window: %K 계산 시 참조할 기간 길이\n",
    "    - smooth_k: %K를 몇 번(며칠) 이동평균으로 스무딩할지 (기본 3)\n",
    "    - smooth_d: %K를 다시 몇 번 이동평균해서 %D를 구할지 (기본 3)\n",
    "    \n",
    "    만약 더 간단하게 %K만 쓸 거라면 %D 계산 부분은 생략 가능합니다.\n",
    "    \"\"\"\n",
    "    # rolling 최저/최고\n",
    "    low_min = df['low_price'].rolling(window=window).min()\n",
    "    high_max = df['high_price'].rolling(window=window).max()\n",
    "\n",
    "    # %K (현재 종가가 (최저~최고) 어디쯤인지)\n",
    "    # 100 * (종가 - 최저) / (최고 - 최저)\n",
    "    # 분모가 0이 될 수 있으니 eps 추가\n",
    "    eps = 1e-9\n",
    "    stoch_k = 100 * ((df['trade_price'] - low_min) / (high_max - low_min + eps))\n",
    "\n",
    "    # %K 스무딩\n",
    "    if smooth_k > 1:\n",
    "        stoch_k = stoch_k.rolling(window=smooth_k).mean()\n",
    "\n",
    "    # %D = %K의 이동평균\n",
    "    stoch_d = stoch_k.rolling(window=smooth_d).mean() if smooth_d > 0 else stoch_k\n",
    "    \n",
    "    return stoch_k, stoch_d\n",
    "\n",
    "df = extract_time_features(df_origin)"
   ]
  },
  {
   "cell_type": "code",
   "execution_count": 4,
   "metadata": {},
   "outputs": [],
   "source": [
    "# 스케일러 초기화\n",
    "scaler_input = MinMaxScaler()\n",
    "scaler_target = MinMaxScaler()\n",
    "\n",
    "# 입력 피처 스케일링\n",
    "scaled_inputs = scaler_input.fit_transform(df[input_features])\n",
    "\n",
    "# 타겟 피처 스케일링 (여기서는 'trade_price'를 예측 대상으로 설정)\n",
    "scaled_target = scaler_target.fit_transform(df[['trade_price']])"
   ]
  },
  {
   "cell_type": "code",
   "execution_count": 5,
   "metadata": {},
   "outputs": [
    {
     "name": "stdout",
     "output_type": "stream",
     "text": [
      "Before scaling trade_price min: 156.0 , max: 3996.0\n",
      "After scaling trade_price min: 0.0 , max: 0.9999999999999999\n"
     ]
    }
   ],
   "source": [
    "# 예시: 스케일링 전후 min/max 비교\n",
    "print(\"Before scaling trade_price min:\", df['trade_price'].min(), \n",
    "      \", max:\", df['trade_price'].max())\n",
    "\n",
    "scaled_trade_price = scaler_target.transform(df[['trade_price']])\n",
    "print(\"After scaling trade_price min:\", scaled_trade_price.min(), \n",
    "      \", max:\", scaled_trade_price.max())"
   ]
  },
  {
   "cell_type": "code",
   "execution_count": 6,
   "metadata": {},
   "outputs": [
    {
     "data": {
      "text/plain": [
       "['../../pickles/2025-01-14/KRW-XRP-5m-full-scaler_target.pkl']"
      ]
     },
     "execution_count": 6,
     "metadata": {},
     "output_type": "execute_result"
    }
   ],
   "source": [
    "# 스케일러 저장\n",
    "joblib.dump(scaler_input, f\"../../pickles/2025-01-14/{filename}-scaler_input.pkl\")\n",
    "joblib.dump(scaler_target, f\"../../pickles/2025-01-14/{filename}-scaler_target.pkl\")"
   ]
  },
  {
   "cell_type": "code",
   "execution_count": 7,
   "metadata": {},
   "outputs": [
    {
     "name": "stdout",
     "output_type": "stream",
     "text": [
      "699940 699940\n",
      "0 0\n"
     ]
    }
   ],
   "source": [
    "# 시퀀스 길이 설정\n",
    "SEQ_LENGTH = 60\n",
    "\n",
    "# 데이터 준비\n",
    "def create_sequences(inputs, targets, seq_length=SEQ_LENGTH):\n",
    "    X = []\n",
    "    y = []\n",
    "    for i in range(len(inputs) - seq_length):\n",
    "        X.append(inputs[i:i+seq_length])\n",
    "        y.append(targets[i+seq_length])\n",
    "    return np.array(X), np.array(y)\n",
    "\n",
    "X, y = create_sequences(scaled_inputs, scaled_target, SEQ_LENGTH)\n",
    "\n",
    "print(len(X), len(y))  # 시퀀스 수 확인\n",
    "print(np.isnan(X).sum(), np.isnan(y).sum())  # NaN 개수 확인"
   ]
  },
  {
   "cell_type": "code",
   "execution_count": 8,
   "metadata": {},
   "outputs": [
    {
     "name": "stdout",
     "output_type": "stream",
     "text": [
      "699940 699940\n"
     ]
    }
   ],
   "source": [
    "print(len(X),len(y))"
   ]
  },
  {
   "cell_type": "code",
   "execution_count": 9,
   "metadata": {},
   "outputs": [],
   "source": [
    "# X와 y를 npy 파일로 저장\n",
    "\n",
    "length = len(X)\n",
    "np.save(f\"../../preprocessed/2025-01-14/{filename}-X.npy\", X)\n",
    "np.save(f\"../../preprocessed/2025-01-14/{filename}-y.npy\", y)"
   ]
  }
 ],
 "metadata": {
  "kernelspec": {
   "display_name": "upbit",
   "language": "python",
   "name": "python3"
  },
  "language_info": {
   "codemirror_mode": {
    "name": "ipython",
    "version": 3
   },
   "file_extension": ".py",
   "mimetype": "text/x-python",
   "name": "python",
   "nbconvert_exporter": "python",
   "pygments_lexer": "ipython3",
   "version": "3.11.11"
  }
 },
 "nbformat": 4,
 "nbformat_minor": 2
}
