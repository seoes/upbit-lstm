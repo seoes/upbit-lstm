{
 "cells": [
  {
   "cell_type": "markdown",
   "metadata": {
    "id": "tM0cO9UVDy89"
   },
   "source": [
    "# 1. 라이브러리 임포트"
   ]
  },
  {
   "cell_type": "code",
   "execution_count": null,
   "metadata": {
    "id": "FcM_s2ZuDExw"
   },
   "outputs": [],
   "source": [
    "\n",
    "import numpy as np\n",
    "import pandas as pd\n",
    "import matplotlib.pyplot as plt\n",
    "\n",
    "import torch\n",
    "import torch.nn as nn"
   ]
  },
  {
   "cell_type": "code",
   "execution_count": null,
   "metadata": {},
   "outputs": [],
   "source": [
    "device = \"cpu\"\n",
    "\n",
    "if torch.cuda.is_available():\n",
    "    device = \"cuda\"\n",
    "elif torch.backends.mps.is_available():\n",
    "    device = \"mps\"\n",
    "else:\n",
    "    device = \"cpu\"\n",
    "\n",
    "print(device)"
   ]
  },
  {
   "cell_type": "markdown",
   "metadata": {
    "id": "iybe-4OxD0Sv"
   },
   "source": [
    "# 2. JSON 데이터 로드"
   ]
  },
  {
   "cell_type": "markdown",
   "metadata": {
    "id": "B8H4um_WECsg"
   },
   "source": [
    "## 2-a. JSON 데이터 로딩"
   ]
  },
  {
   "cell_type": "code",
   "execution_count": null,
   "metadata": {
    "id": "2omaSlmiD5-D"
   },
   "outputs": [],
   "source": [
    "df = pd.read_csv(\"./KRW-XRP-1m-2024-12-06T07-24-04-827Z.csv\")"
   ]
  },
  {
   "cell_type": "code",
   "execution_count": null,
   "metadata": {
    "colab": {
     "base_uri": "https://localhost:8080/"
    },
    "id": "4-BCfoSY9rFv",
    "outputId": "15287ec5-cc2a-4ce7-fa22-330765a90dcb"
   },
   "outputs": [],
   "source": [
    "print(df.head(2))"
   ]
  },
  {
   "cell_type": "markdown",
   "metadata": {
    "id": "Ik-7NovMEImy"
   },
   "source": [
    "## 2-b. 특징 추출"
   ]
  },
  {
   "cell_type": "code",
   "execution_count": null,
   "metadata": {
    "id": "lreiVixmEL8y"
   },
   "outputs": [],
   "source": [
    "# 필요한 열 선택\n",
    "df = df[['candle_date_time_kst', 'opening_price', 'high_price', 'low_price', 'trade_price', 'candle_acc_trade_volume']]\n",
    "\n",
    "# datetime 형식으로 변환\n",
    "df['candle_date_time_kst'] = pd.to_datetime(df['candle_date_time_kst'])\n",
    "df.set_index('candle_date_time_kst', inplace=True)"
   ]
  },
  {
   "cell_type": "markdown",
   "metadata": {
    "id": "9YtY6gr8EMp-"
   },
   "source": [
    "## 2-c. 결측치, 이상치 처리"
   ]
  },
  {
   "cell_type": "code",
   "execution_count": null,
   "metadata": {
    "id": "JIQ59Cy2EPrL"
   },
   "outputs": [],
   "source": [
    "# 결측치 제거\n",
    "df.dropna(inplace=True)"
   ]
  },
  {
   "cell_type": "markdown",
   "metadata": {
    "id": "R91l0XYJEQ0j"
   },
   "source": [
    "## 2-d. 데이터 정규화"
   ]
  },
  {
   "cell_type": "code",
   "execution_count": null,
   "metadata": {
    "id": "i2KAizXSETw8"
   },
   "outputs": [],
   "source": [
    "from sklearn.preprocessing import MinMaxScaler\n",
    "\n",
    "scaler = MinMaxScaler()\n",
    "scaled_df = scaler.fit_transform(df)\n",
    "\n",
    "# DataFrame으로 변환\n",
    "scaled_df = pd.DataFrame(scaled_df, index=df.index, columns=df.columns)"
   ]
  },
  {
   "cell_type": "code",
   "execution_count": null,
   "metadata": {
    "colab": {
     "base_uri": "https://localhost:8080/"
    },
    "id": "2cfYK4Wjpcdp",
    "outputId": "9914420c-5553-4088-c920-f09cdd870c6c"
   },
   "outputs": [],
   "source": [
    "test_df = scaled_df[1900000:]\n",
    "# test_df = scaled_df\n",
    "print(test_df)"
   ]
  },
  {
   "cell_type": "markdown",
   "metadata": {
    "id": "lwEpo3EWEVGN"
   },
   "source": [
    "## 2-e. 시계열 데이터 생성"
   ]
  },
  {
   "cell_type": "code",
   "execution_count": null,
   "metadata": {
    "id": "cH1Hbh-_EZiS"
   },
   "outputs": [],
   "source": [
    "def create_sequences(data, seq_length):\n",
    "    xs = []\n",
    "    ys = []\n",
    "\n",
    "    for i in range(len(data) - seq_length):\n",
    "        x = data.iloc[i:(i+seq_length)].values\n",
    "        y = data.iloc[i+seq_length]['trade_price']\n",
    "        xs.append(x)\n",
    "        ys.append(y)\n",
    "\n",
    "    return np.array(xs), np.array(ys)\n",
    "\n",
    "seq_length = 60  # 예: 60분(1시간) 동안의 데이터를 사용하여 다음 값을 예측\n",
    "X, y = create_sequences(scaled_df, seq_length)\n",
    "# X, y = create_sequences(test_df, seq_length)"
   ]
  },
  {
   "cell_type": "markdown",
   "metadata": {
    "id": "gxT-aajJEbLI"
   },
   "source": [
    "## 2-f. 학습 데이터와 테스트 데이터 분리"
   ]
  },
  {
   "cell_type": "code",
   "execution_count": null,
   "metadata": {
    "id": "z_WHbN5bEmZ4"
   },
   "outputs": [],
   "source": [
    "train_size = int(len(X) * 0.8)\n",
    "X_train = X[:train_size]\n",
    "y_train = y[:train_size]\n",
    "\n",
    "X_test = X[train_size:]\n",
    "y_test = y[train_size:]"
   ]
  },
  {
   "cell_type": "markdown",
   "metadata": {
    "id": "lYfuhmfJEffq"
   },
   "source": [
    "## 2-g. 데이터를 PyTorch Tensor로 변환"
   ]
  },
  {
   "cell_type": "code",
   "execution_count": null,
   "metadata": {
    "id": "dzF1t9mbEkjX"
   },
   "outputs": [],
   "source": [
    "# Numpy 배열을 Tensor로 변환\n",
    "X_train = torch.from_numpy(X_train).type(torch.FloatTensor)\n",
    "y_train = torch.from_numpy(y_train).type(torch.FloatTensor)\n",
    "\n",
    "X_test = torch.from_numpy(X_test).type(torch.FloatTensor)\n",
    "y_test = torch.from_numpy(y_test).type(torch.FloatTensor)"
   ]
  },
  {
   "cell_type": "markdown",
   "metadata": {
    "id": "jj7VJUkeFJCI"
   },
   "source": [
    "# 3. 모델 정의"
   ]
  },
  {
   "cell_type": "code",
   "execution_count": null,
   "metadata": {
    "id": "CwIUHYJ2FIfv"
   },
   "outputs": [],
   "source": [
    "class LSTMModel(nn.Module):\n",
    "    def __init__(self, input_size, hidden_size, num_layers, output_size, device):\n",
    "        super(LSTMModel, self).__init__()\n",
    "        \n",
    "        self.device = device\n",
    "        self.hidden_size = hidden_size\n",
    "        self.num_layers = num_layers\n",
    "\n",
    "        # LSTM 레이어 정의\n",
    "        self.lstm = nn.LSTM(input_size, hidden_size, num_layers, batch_first=True)\n",
    "        # 출력 레이어 정의\n",
    "        self.fc = nn.Linear(hidden_size, output_size)\n",
    "\n",
    "    def forward(self, x):\n",
    "        # 초기 hidden state와 cell state 설정\n",
    "        h0 = torch.zeros(self.num_layers, x.size(0), self.hidden_size, device=self.device).requires_grad_()\n",
    "        c0 = torch.zeros(self.num_layers, x.size(0), self.hidden_size, device=self.device).requires_grad_()\n",
    "\n",
    "        # LSTM 실행\n",
    "        out, (hn, cn) = self.lstm(x, (h0.detach(), c0.detach()))\n",
    "\n",
    "        # 마지막 시점의 출력값 사용\n",
    "        out = self.fc(out[:, -1, :])\n",
    "        return out"
   ]
  },
  {
   "cell_type": "markdown",
   "metadata": {
    "id": "mLUCSrkCFOvg"
   },
   "source": [
    "# 4. 모델 학습"
   ]
  },
  {
   "cell_type": "markdown",
   "metadata": {
    "id": "v04Od7D0FnYc"
   },
   "source": [
    "## 4-a. 하이퍼파라미터 설정"
   ]
  },
  {
   "cell_type": "code",
   "execution_count": null,
   "metadata": {
    "id": "2xXN4gflFQyl"
   },
   "outputs": [],
   "source": [
    "input_size = X_train.shape[2]  # 5\n",
    "hidden_size = 256\n",
    "num_layers = 4\n",
    "output_size = 1\n",
    "learning_rate = 0.001\n",
    "num_epochs = 50\n",
    "batch_size = 1024 # 배치 크기 설정"
   ]
  },
  {
   "cell_type": "markdown",
   "metadata": {
    "id": "k62ANA0QFqKH"
   },
   "source": [
    "## 4-b. 모델, 손실 함수, 옵티마이저 정의"
   ]
  },
  {
   "cell_type": "code",
   "execution_count": null,
   "metadata": {
    "id": "E5-eL32NM1ze"
   },
   "outputs": [],
   "source": [
    "print(device)\n",
    "model = LSTMModel(input_size, hidden_size, num_layers, output_size,device)\n",
    "model = LSTMModel(input_size, hidden_size, num_layers, output_size,device).to(device)\n",
    "\n",
    "criterion = nn.MSELoss()\n",
    "optimizer = torch.optim.Adam(model.parameters(), lr=learning_rate)"
   ]
  },
  {
   "cell_type": "code",
   "execution_count": null,
   "metadata": {},
   "outputs": [],
   "source": [
    "print(\"Available GPUs:\", torch.cuda.device_count())\n",
    "\n",
    "for i in range(torch.cuda.device_count()):\n",
    "    print(f\"GPU {i}:\")\n",
    "    print(\"  Name:\", torch.cuda.get_device_name(i))\n",
    "    print(\"  Allocated memory:\", torch.cuda.memory_allocated(i) / 1e9, \"GB\")\n",
    "    print(\"  Cached memory:\", torch.cuda.memory_reserved(i) / 1e9, \"GB\")\n",
    "    print(\"  Utilization:\", torch.cuda.max_memory_allocated(i) / torch.cuda.get_device_properties(i).total_memory * 100, \"%\")\n",
    "\n",
    "\n",
    "print(\"Current GPU in use:\", torch.cuda.current_device())\n",
    "\n",
    "if torch.cuda.device_count() > 1:\n",
    "    model = torch.nn.DataParallel(model)\n",
    "model.to('cuda')"
   ]
  },
  {
   "cell_type": "code",
   "execution_count": null,
   "metadata": {},
   "outputs": [],
   "source": [
    "# Numpy 배열을 Tensor로 변환\n",
    "X_train = X_train.to(device)\n",
    "y_train = y_train.to(device)\n",
    "\n",
    "X_test = X_test.to(device)\n",
    "y_test = y_test.to(device)"
   ]
  },
  {
   "cell_type": "code",
   "execution_count": null,
   "metadata": {},
   "outputs": [],
   "source": [
    "# 모델 인스턴스가 주어진 경우\n",
    "device = next(model.parameters()).device\n",
    "print(\"Current device:\", device)"
   ]
  },
  {
   "cell_type": "markdown",
   "metadata": {
    "id": "27SkbhKGM3hW"
   },
   "source": [
    "## 4-c. 학습 루프"
   ]
  },
  {
   "cell_type": "code",
   "execution_count": null,
   "metadata": {
    "id": "qPlq-3F5M8Mb"
   },
   "outputs": [],
   "source": [
    "import time\n",
    "import torch\n",
    "\n",
    "# 훈련 전 메모리 캐시 초기화 (GPU 사용 시)\n",
    "if torch.cuda.is_available():\n",
    "    torch.cuda.empty_cache()\n",
    "\n",
    "try:\n",
    "    for epoch in range(num_epochs):\n",
    "        model.train()\n",
    "        total_loss = 0\n",
    "        start_time = time.time()  # 각 에포크 시작 시간을 기록\n",
    "        \n",
    "        for i in range(0, len(X_train), batch_size):\n",
    "            X_batch = X_train[i:i + batch_size].to(device)\n",
    "            y_batch = y_train[i:i + batch_size].to(device)\n",
    "\n",
    "            # 모델 훈련\n",
    "            outputs = model(X_batch)\n",
    "            loss = criterion(outputs, y_batch.view(-1, 1))\n",
    "\n",
    "            optimizer.zero_grad()  # 기울기 초기화\n",
    "            loss.backward()  # 역전파\n",
    "            optimizer.step()  # 가중치 업데이트\n",
    "            \n",
    "            total_loss += loss.item()\n",
    "\n",
    "        # 에포크가 종료될 때 마다 경과 시간과 평균 손실을 계산 및 출력\n",
    "        elapsed_time = time.time() - start_time\n",
    "        avg_loss = total_loss / (len(X_train) / batch_size)\n",
    "        print(f'Epoch [{epoch}/{num_epochs}], Average Loss: {avg_loss:.4f}, Time: {elapsed_time:.2f} sec')\n",
    "\n",
    "        # 선택적으로 GPU 메모리 캐시 청소 (필요 시)\n",
    "        if torch.cuda.is_available():\n",
    "            torch.cuda.empty_cache()\n",
    "\n",
    "except Exception as e:\n",
    "    print(f\"Training failed: {e}\")"
   ]
  },
  {
   "cell_type": "code",
   "execution_count": null,
   "metadata": {},
   "outputs": [],
   "source": [
    "from datetime import datetime\n",
    "\n",
    "model_filename = f'model_lr{learning_rate}_bs{batch_size}_epochs{num_epochs}.pth'\n",
    "current_time = datetime.now().strftime(\"%Y-%m-%d_%H-%M-%S\")\n",
    "model_filename = f'model_lr{learning_rate}_bs{batch_size}_epochs{num_epochs}_{current_time}.pth'"
   ]
  },
  {
   "cell_type": "code",
   "execution_count": null,
   "metadata": {},
   "outputs": [],
   "source": [
    "torch.save(model.state_dict(),f\"./model/{model_filename}\")"
   ]
  },
  {
   "cell_type": "markdown",
   "metadata": {
    "id": "8TVgSiS3M-UX"
   },
   "source": [
    "# 5. 모델 평가 및 예측"
   ]
  },
  {
   "cell_type": "markdown",
   "metadata": {
    "id": "uericsfuNBcF"
   },
   "source": [
    "## 5-a. 테스트 데이터에 대한 예측"
   ]
  },
  {
   "cell_type": "code",
   "execution_count": null,
   "metadata": {},
   "outputs": [],
   "source": [
    "print(len(X_test))"
   ]
  },
  {
   "cell_type": "code",
   "execution_count": null,
   "metadata": {
    "id": "pw9Nql5BNAbH"
   },
   "outputs": [],
   "source": [
    "model.eval()\n",
    "with torch.no_grad():\n",
    "    train_predict = model(X_test)"
   ]
  },
  {
   "cell_type": "markdown",
   "metadata": {
    "id": "54juhj_YNHAw"
   },
   "source": [
    "## 5-b. 스케일된 데이터를 원래대로 복원"
   ]
  },
  {
   "cell_type": "code",
   "execution_count": null,
   "metadata": {
    "id": "mgXGmx1mNJPF"
   },
   "outputs": [],
   "source": [
    "# 예측값과 실제값을 스케일러의 inverse_transform을 사용하여 원래 값으로 복원\n",
    "\n",
    "# 예측값\n",
    "predicted = train_predict.detach().cpu().numpy()\n",
    "# 실제값\n",
    "actual = y_test.detach().cpu().numpy()\n",
    "\n",
    "# trade_price만 복원하기 위해 다른 컬럼은 0으로 채움\n",
    "padding = np.zeros((predicted.shape[0], scaled_df.shape[1]-1))\n",
    "predicted_full = np.concatenate((padding, predicted), axis=1)\n",
    "actual_full = np.concatenate((padding, actual.reshape(-1,1)), axis=1)\n",
    "\n",
    "# inverse_transform\n",
    "predicted_original = scaler.inverse_transform(predicted_full)[:, -1]\n",
    "actual_original = scaler.inverse_transform(actual_full)[:, -1]"
   ]
  },
  {
   "cell_type": "markdown",
   "metadata": {
    "id": "cbs9Sh-CNMEc"
   },
   "source": [
    "## 5-c. 매수/매도 신호 생성"
   ]
  },
  {
   "cell_type": "code",
   "execution_count": null,
   "metadata": {
    "id": "cTjs0Bc7NrpM"
   },
   "outputs": [],
   "source": [
    "# 가격 상승 예측 시 매수, 하락 예측 시 매도\n",
    "signals = []\n",
    "for i in range(len(predicted_original)-1):\n",
    "    if predicted_original[i+1] > actual_original[i]:\n",
    "        signals.append('Buy')\n",
    "    else:\n",
    "        signals.append('Sell')"
   ]
  },
  {
   "cell_type": "markdown",
   "metadata": {
    "id": "qNfUH4ruNsq0"
   },
   "source": [
    "# 6. 결과 시각화"
   ]
  },
  {
   "cell_type": "code",
   "execution_count": null,
   "metadata": {
    "colab": {
     "base_uri": "https://localhost:8080/",
     "height": 439
    },
    "id": "7Si8qW7wNuoD",
    "outputId": "2aeea6e2-c782-48ef-a8fa-13fb7e44ea57"
   },
   "outputs": [],
   "source": [
    "plt.figure(figsize=(12,6))\n",
    "plt.plot(df.index[-len(predicted_original):], actual_original, label='Actual Price')\n",
    "plt.plot(df.index[-len(predicted_original):], predicted_original, label='Predicted Price')\n",
    "plt.legend()\n",
    "plt.show()"
   ]
  },
  {
   "cell_type": "markdown",
   "metadata": {
    "id": "1p7v3zefOM82"
   },
   "source": [
    "# 7. 매수/매도 신호 표시"
   ]
  },
  {
   "cell_type": "code",
   "execution_count": null,
   "metadata": {
    "colab": {
     "base_uri": "https://localhost:8080/"
    },
    "id": "yMnYBdx1OO1h",
    "outputId": "0bfb9619-9aae-4a98-94e1-49bf8c020b97"
   },
   "outputs": [],
   "source": [
    "import pandas as pd\n",
    "\n",
    "\n",
    "\n",
    "signal_df = pd.DataFrame({\n",
    "    'Date': df.index[-len(signals):],\n",
    "    'Actual Price': actual_original[:-1],\n",
    "    'Predicted Price': predicted_original[:-1],\n",
    "    'Signal': signals\n",
    "})\n",
    "\n",
    "pd.set_option('display.max_rows', None)  # 모든 행을 출력하도록 설정\n",
    "print(signal_df)\n",
    "\n",
    "print(signal_df.head())"
   ]
  },
  {
   "cell_type": "code",
   "execution_count": null,
   "metadata": {},
   "outputs": [],
   "source": [
    "import pandas as pd\n",
    "\n",
    "# 초기 자본 및 변수 설정\n",
    "initial_capital = 1000000  # 100만원\n",
    "cash = initial_capital  # 초기 현금\n",
    "coins = 0  # 보유 코인 수\n",
    "asset_history = []  # 자산 변동 이력\n",
    "\n",
    "# 거래 로직 실행\n",
    "for index, row in signal_df.iterrows():\n",
    "    current_price = row['Predicted Price']  # 현재 가격 사용\n",
    "    if row['Signal'] == 'Buy' and cash > 0:  # 매수 조건\n",
    "        coins = cash / current_price  # 모든 현금으로 코인 매수\n",
    "        cash = 0  # 현금 소모\n",
    "    elif row['Signal'] == 'Sell' and coins > 0:  # 매도 조건\n",
    "        cash = coins * current_price  # 모든 코인 매도\n",
    "        coins = 0  # 코인 소모\n",
    "\n",
    "    # 현재 자산 계산 (현금 + 코인 가치)\n",
    "    total_assets = cash + coins * current_price\n",
    "    asset_history.append(total_assets)  # 자산 이력 기록\n",
    "\n",
    "# 자산 이력을 DataFrame으로 변환\n",
    "asset_df = pd.DataFrame(asset_history, columns=['Total Assets'])\n",
    "asset_df['Date'] = signal_df['Date']  # 날짜 정보 추가\n",
    "\n",
    "# 결과 출력\n",
    "print(asset_df)"
   ]
  },
  {
   "cell_type": "code",
   "execution_count": null,
   "metadata": {},
   "outputs": [],
   "source": [
    "import matplotlib.pyplot as plt\n",
    "\n",
    "plt.figure(figsize=(12, 6))\n",
    "plt.plot(asset_df['Date'], asset_df['Total Assets'], label='Total Assets')\n",
    "plt.xlabel('Date')\n",
    "plt.ylabel('Assets in KRW')\n",
    "plt.title('Asset Variation Over Time')\n",
    "plt.legend()\n",
    "plt.grid(True)\n",
    "plt.show()"
   ]
  },
  {
   "cell_type": "code",
   "execution_count": null,
   "metadata": {},
   "outputs": [],
   "source": [
    "# 모델 인스턴스가 주어진 경우\n",
    "device = next(model.parameters()).device\n",
    "print(\"Current device:\", device)"
   ]
  },
  {
   "cell_type": "code",
   "execution_count": null,
   "metadata": {},
   "outputs": [],
   "source": [
    "print(\"hey\")\n",
    "\n",
    "# 모델 저장 경로 설정\n",
    "model_save_path = \"trained_model.pth\"\n",
    "\n",
    "# 모델 저장\n",
    "torch.save(model.state_dict(), model_save_path)\n",
    "\n",
    "print(f\"Model saved to {model_save_path}\")"
   ]
  },
  {
   "cell_type": "code",
   "execution_count": null,
   "metadata": {},
   "outputs": [],
   "source": [
    "print(len(X))"
   ]
  }
 ],
 "metadata": {
  "accelerator": "GPU",
  "colab": {
   "gpuType": "T4",
   "provenance": []
  },
  "kernelspec": {
   "display_name": "upbit",
   "language": "python",
   "name": "python3"
  },
  "language_info": {
   "codemirror_mode": {
    "name": "ipython",
    "version": 3
   },
   "file_extension": ".py",
   "mimetype": "text/x-python",
   "name": "python",
   "nbconvert_exporter": "python",
   "pygments_lexer": "ipython3",
   "version": "3.11.11"
  }
 },
 "nbformat": 4,
 "nbformat_minor": 0
}
