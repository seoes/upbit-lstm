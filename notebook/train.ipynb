{
 "cells": [
  {
   "cell_type": "code",
   "execution_count": null,
   "metadata": {},
   "outputs": [],
   "source": [
    "import numpy as np\n",
    "\n",
    "import torch\n",
    "import torch.nn as nn\n",
    "\n",
    "device = \"cpu\"\n",
    "\n",
    "if torch.cuda.is_available():\n",
    "    device = \"cuda\"\n",
    "elif torch.backends.mps.is_available():\n",
    "    device = \"mps\"\n",
    "else:\n",
    "    device = \"cpu\"\n",
    "\n",
    "print(device)"
   ]
  },
  {
   "cell_type": "code",
   "execution_count": 2,
   "metadata": {},
   "outputs": [],
   "source": [
    "filename = \"KRW-XRP-1m-full\"\n",
    "\n",
    "# npy 파일 불러오기\n",
    "X = np.load(f\"../preprocessed/{filename}-train-X.npy\")\n",
    "y = np.load(f\"../preprocessed/{filename}-train-y.npy\")\n",
    "\n",
    "# Numpy 배열을 Tensor로 변환\n",
    "X_train = torch.from_numpy(X).type(torch.FloatTensor).to(device)\n",
    "y_train = torch.from_numpy(y).type(torch.FloatTensor).to(device)"
   ]
  },
  {
   "cell_type": "code",
   "execution_count": 3,
   "metadata": {},
   "outputs": [],
   "source": [
    "class LSTMModel(nn.Module):\n",
    "    def __init__(self, input_size, hidden_size, num_layers, output_size, device):\n",
    "        super(LSTMModel, self).__init__()\n",
    "        \n",
    "        self.device = device\n",
    "        self.hidden_size = hidden_size\n",
    "        self.num_layers = num_layers\n",
    "\n",
    "        # LSTM 레이어 정의\n",
    "        self.lstm = nn.LSTM(input_size, hidden_size, num_layers, batch_first=True)\n",
    "        # 출력 레이어 정의\n",
    "        self.fc = nn.Linear(hidden_size, output_size)\n",
    "\n",
    "    def forward(self, x):\n",
    "        # 초기 hidden state와 cell state 설정\n",
    "        h0 = torch.zeros(self.num_layers, x.size(0), self.hidden_size, device=self.device).requires_grad_()\n",
    "        c0 = torch.zeros(self.num_layers, x.size(0), self.hidden_size, device=self.device).requires_grad_()\n",
    "\n",
    "        # LSTM 실행\n",
    "        out, (hn, cn) = self.lstm(x, (h0.detach(), c0.detach()))\n",
    "\n",
    "        # 마지막 시점의 출력값 사용\n",
    "        out = self.fc(out[:, -1, :])\n",
    "        return out"
   ]
  },
  {
   "cell_type": "code",
   "execution_count": null,
   "metadata": {},
   "outputs": [],
   "source": [
    "input_size = X_train.shape[2]  # 5\n",
    "hidden_size = 50\n",
    "num_layers = 2\n",
    "output_size = 1\n",
    "learning_rate = 0.001\n",
    "num_epochs = 100\n",
    "batch_size = 64 # 배치 크기 설정\n",
    "\n",
    "print(\"hidden_size:\", hidden_size)\n",
    "print(\"num_layers:\", num_layers)\n",
    "print(\"num_epochs:\", num_epochs)\n",
    "print(\"batch_size:\", batch_size)"
   ]
  },
  {
   "cell_type": "code",
   "execution_count": 5,
   "metadata": {},
   "outputs": [],
   "source": [
    "model = LSTMModel(input_size, hidden_size, num_layers, output_size,device).to(device)\n",
    "\n",
    "criterion = nn.MSELoss()\n",
    "optimizer = torch.optim.Adam(model.parameters(), lr=learning_rate)\n",
    "\n",
    "# print(\"Available GPUs:\", torch.cuda.device_count())\n",
    "\n",
    "# for i in range(torch.cuda.device_count()):\n",
    "#     print(f\"GPU {i}:\")\n",
    "#     print(\"  Name:\", torch.cuda.get_device_name(i))\n",
    "#     print(\"  Allocated memory:\", torch.cuda.memory_allocated(i) / 1e9, \"GB\")\n",
    "#     print(\"  Cached memory:\", torch.cuda.memory_reserved(i) / 1e9, \"GB\")\n",
    "#     print(\"  Utilization:\", torch.cuda.max_memory_allocated(i) / torch.cuda.get_device_properties(i).total_memory * 100, \"%\")\n",
    "\n",
    "\n",
    "# print(\"Current GPU in use:\", torch.cuda.current_device())\n",
    "\n",
    "if torch.cuda.device_count() > 1:\n",
    "    model = torch.nn.DataParallel(model)\n",
    "model.to('cuda')\n",
    "\n",
    "current_device = next(model.parameters()).device\n",
    "# print(\"Current device:\", current_device)"
   ]
  },
  {
   "cell_type": "code",
   "execution_count": null,
   "metadata": {},
   "outputs": [],
   "source": [
    "import time\n",
    "\n",
    "# 훈련 전 메모리 캐시 초기화 (GPU 사용 시)\n",
    "if torch.cuda.is_available():\n",
    "    torch.cuda.empty_cache()\n",
    "\n",
    "try:\n",
    "    for epoch in range(num_epochs):\n",
    "        model.train()\n",
    "        total_loss = 0\n",
    "        start_time = time.time()  # 각 에포크 시작 시간을 기록\n",
    "        \n",
    "        for i in range(0, len(X_train), batch_size):\n",
    "            X_batch = X_train[i:i + batch_size].to(device)\n",
    "            y_batch = y_train[i:i + batch_size].to(device)\n",
    "\n",
    "            # 모델 훈련\n",
    "            outputs = model(X_batch)\n",
    "            loss = criterion(outputs, y_batch.view(-1, 1))\n",
    "\n",
    "            optimizer.zero_grad()  # 기울기 초기화\n",
    "            loss.backward()  # 역전파\n",
    "            optimizer.step()  # 가중치 업데이트\n",
    "            \n",
    "            total_loss += loss.item()\n",
    "\n",
    "        # 에포크가 종료될 때 마다 경과 시간과 평균 손실을 계산 및 출력\n",
    "        elapsed_time = time.time() - start_time\n",
    "        avg_loss = total_loss / (len(X_train) / batch_size)\n",
    "        print(f'Epoch [{epoch}/{num_epochs}], Average Loss: {avg_loss:.8f}, Time: {elapsed_time:.2f} sec')\n",
    "\n",
    "        # 선택적으로 GPU 메모리 캐시 청소 (필요 시)\n",
    "        if torch.cuda.is_available():\n",
    "            torch.cuda.empty_cache()\n",
    "\n",
    "except Exception as e:\n",
    "    print(f\"Training failed: {e}\")"
   ]
  },
  {
   "cell_type": "code",
   "execution_count": null,
   "metadata": {},
   "outputs": [],
   "source": [
    "model_filename = f'{filename}-lr{learning_rate}_bs{batch_size}-epochs{num_epochs}-hs{hidden_size}_nl{num_layers}.pth'"
   ]
  },
  {
   "cell_type": "code",
   "execution_count": 8,
   "metadata": {},
   "outputs": [],
   "source": [
    "torch.save(model.module.state_dict(),f\"../model/{model_filename}\")"
   ]
  }
 ],
 "metadata": {
  "kernelspec": {
   "display_name": "upbit",
   "language": "python",
   "name": "python3"
  },
  "language_info": {
   "codemirror_mode": {
    "name": "ipython",
    "version": 3
   },
   "file_extension": ".py",
   "mimetype": "text/x-python",
   "name": "python",
   "nbconvert_exporter": "python",
   "pygments_lexer": "ipython3",
   "version": "3.11.11"
  }
 },
 "nbformat": 4,
 "nbformat_minor": 2
}
